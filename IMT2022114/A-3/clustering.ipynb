{
 "cells": [
  {
   "cell_type": "code",
   "execution_count": 243,
   "metadata": {},
   "outputs": [],
   "source": [
    "import numpy as np\n",
    "import matplotlib.pyplot as plt\n",
    "import pandas as pd\n",
    "import seaborn as sns\n",
    "import os"
   ]
  },
  {
   "cell_type": "markdown",
   "metadata": {},
   "source": [
    "### Using clustering to show high risk states for youth police Shootings"
   ]
  },
  {
   "cell_type": "code",
   "execution_count": null,
   "metadata": {},
   "outputs": [
    {
     "name": "stdout",
     "output_type": "stream",
     "text": [
      "         date                name   age gender    armed      race  \\\n",
      "0  2015-01-02    Lewis Lee Lembke  47.0   male      gun     White   \n",
      "1  2015-01-02          Tim Elliot  53.0   male      gun     Asian   \n",
      "2  2015-01-03  John Paul Quintero  23.0   male  unarmed  Hispanic   \n",
      "3  2015-01-04   Kenneth Joe Brown  18.0   male      gun     White   \n",
      "4  2015-01-04     Matthew Hoffman  32.0   male  replica     White   \n",
      "\n",
      "            city state flee  body_camera  signs_of_mental_illness  \\\n",
      "0          Aloha    OR  not        False                    False   \n",
      "1        Shelton    WA  not        False                     True   \n",
      "2        Wichita    KS  not        False                    False   \n",
      "3        Guthrie    OK  not        False                    False   \n",
      "4  San Francisco    CA  not        False                     True   \n",
      "\n",
      "              police_departments_involved age_group  \n",
      "0  Washington County Sheriff's Office, OR     46-55  \n",
      "1       Mason County Sheriff's Office, WA     46-55  \n",
      "2           Wichita Police Department, KS     19-25  \n",
      "3             Oklahoma Highway Patrol, OK     19-25  \n",
      "4     San Francisco Police Department, CA     26-35  \n"
     ]
    }
   ],
   "source": [
    "# idea: to cluster cities based on percentage of youth cases in the first iteration, also incorporating other features like mental illness signs and armed vs unarmed status\n",
    "\n",
    "df = pd.read_csv('../datasets/police_shootings_cleaned.csv')\n",
    "\n",
    "df_1 = pd.read_csv('../datasets/demographic_cleaned.csv')\n",
    "\n",
    "print(df.head())\n"
   ]
  },
  {
   "cell_type": "code",
   "execution_count": 245,
   "metadata": {},
   "outputs": [
    {
     "name": "stdout",
     "output_type": "stream",
     "text": [
      "(1368, 13)\n"
     ]
    }
   ],
   "source": [
    "# youth is <=25 take only that\n",
    "df = df[df['age'] <= 25]\n",
    "#print number of rows\n",
    "print(df.shape)"
   ]
  },
  {
   "cell_type": "code",
   "execution_count": null,
   "metadata": {},
   "outputs": [
    {
     "data": {
      "image/png": "[encoded data removed]",
      "text/plain": [
       "<Figure size 640x480 with 1 Axes>"
      ]
     },
     "metadata": {},
     "output_type": "display_data"
    }
   ],
   "source": [
    "# plot a bar graph of the number of youth cases for top 10 states with the most youth cases\n",
    "\n",
    "df['state'].value_counts().head(10).plot(kind='bar')\n",
    "plt.title('Top 10 states with the most youth cases')\n",
    "plt.xlabel('State')\n",
    "plt.ylabel('Number of youth cases')\n",
    "plt.show()\n",
    "\n",
    "# save the png in clustering folder\n",
    "if not os.path.exists('clustering'):\n",
    "    os.makedirs('clustering')\n",
    "plt.savefig('clustering/youth_cases.png')\n"
   ]
  },
  {
   "cell_type": "code",
   "execution_count": 247,
   "metadata": {},
   "outputs": [],
   "source": [
    "def get_2020pop(state):\n",
    "    pop = pd.read_csv('../datasets/demographic_cleaned.csv')\n",
    "    pop = pop[pop['NAME'] == state]\n",
    "    pop = pop[pop['AGE'] <= 25]\n",
    "    pop = sum(pop['POPESTIMATE2020'])\n",
    "    return pop"
   ]
  },
  {
   "cell_type": "code",
   "execution_count": 248,
   "metadata": {},
   "outputs": [
    {
     "name": "stdout",
     "output_type": "stream",
     "text": [
      "['KS' 'OK' 'AZ' 'CA' 'MN' 'MO' 'TX' 'CO' 'MI' 'MD' 'FL' 'UT' 'NC' 'AL'\n",
      " 'SC' 'IL' 'WI' 'GA' 'WA' 'OH' 'NY' 'LA' 'IN' 'VA' 'NJ' 'PA' 'WY' 'TN'\n",
      " 'KY' 'NV' 'NH' 'AK' 'NM' 'IA' 'DC' 'MT' 'ME' 'OR' 'SD' 'CT' 'RI' 'MS'\n",
      " 'HI' 'NE' 'DE' 'AR' 'WV' 'ND' 'ID' 'MA']\n"
     ]
    }
   ],
   "source": [
    "# get keys to different states\n",
    "states = df['state'].unique()\n",
    "print(states)"
   ]
  },
  {
   "cell_type": "code",
   "execution_count": 249,
   "metadata": {},
   "outputs": [
    {
     "name": "stdout",
     "output_type": "stream",
     "text": [
      "[('AK', np.float64(23.262666521921187)), ('NM', np.float64(15.705916704384663)), ('DC', np.float64(15.494267121165167)), ('CO', np.float64(14.428125225439457)), ('OK', np.float64(13.213389091454507)), ('AZ', np.float64(12.0165246186967)), ('MO', np.float64(10.333069266007646)), ('NV', np.float64(10.117269268086389)), ('GA', np.float64(8.50726412327377)), ('LA', np.float64(8.199202785206115)), ('WY', np.float64(7.801529099703543)), ('OH', np.float64(7.692085053079299)), ('CA', np.float64(7.575356431997938)), ('TX', np.float64(7.539245519136057)), ('MT', np.float64(7.22858819889605)), ('MD', np.float64(6.800209345704006)), ('ME', np.float64(6.649395968870188)), ('DE', np.float64(6.558430698702415)), ('WV', np.float64(6.504826581323342)), ('FL', np.float64(6.451769122884377)), ('SD', np.float64(6.423742150990059)), ('UT', np.float64(6.180968579591605)), ('IL', np.float64(5.971418402956091)), ('TN', np.float64(5.957981665304422)), ('MS', np.float64(5.879920268281162)), ('AR', np.float64(5.868957907833885)), ('KS', np.float64(5.7243605889222176)), ('WA', np.float64(5.680471836220636)), ('IN', np.float64(5.547457216303038)), ('OR', np.float64(5.430258798376818)), ('MN', np.float64(5.261947646778084)), ('WI', np.float64(5.222491180518019)), ('NC', np.float64(5.105319830783444)), ('KY', np.float64(4.6858850431904715)), ('SC', np.float64(4.550796905215395)), ('ID', np.float64(4.525508025988484)), ('VA', np.float64(4.257034039244178)), ('AL', np.float64(4.217301902786372)), ('NH', np.float64(3.7578256719618603)), ('PA', np.float64(3.6226498059383974)), ('ND', np.float64(3.540123762726745)), ('MI', np.float64(3.5369444613602656)), ('HI', np.float64(3.394210382210717)), ('IA', np.float64(3.185542370443992)), ('NJ', np.float64(2.7181742567152494)), ('NY', np.float64(2.634508840533499)), ('NE', np.float64(2.131896151074689)), ('RI', np.float64(1.4807180890444631)), ('MA', np.float64(1.3946119631673684)), ('CT', np.float64(1.3558880795743595))]\n"
     ]
    }
   ],
   "source": [
    "# print percentage of youth cases in each state\n",
    "# get different \n",
    "# ['KS' 'OK' 'AZ' 'CA' 'MN' 'MO' 'TX' 'CO' 'MI' 'MD' 'FL' 'UT' 'NC' 'AL'\n",
    "#  'SC' 'IL' 'WI' 'GA' 'WA' 'OH' 'NY' 'LA' 'IN' 'VA' 'NJ' 'PA' 'WY' 'TN'\n",
    "#  'KY' 'NV' 'NH' 'AK' 'NM' 'IA' 'DC' 'MT' 'ME' 'OR' 'SD' 'CT' 'RI' 'MS'\n",
    "#  'HI' 'NE' 'DE' 'AR' 'WV' 'ND' 'ID' 'MA']\n",
    "\n",
    "dict = {\n",
    "    'KS': 'Kansas', 'OK': 'Oklahoma', 'AZ': 'Arizona', 'CA': 'California', 'MN': 'Minnesota', 'MO': 'Missouri', 'TX': 'Texas', 'CO': 'Colorado', 'MI': 'Michigan', 'MD': 'Maryland', 'FL': 'Florida', 'UT': 'Utah', 'NC': 'North Carolina', 'AL': 'Alabama',\n",
    "    'SC': 'South Carolina', 'IL': 'Illinois', 'WI': 'Wisconsin', 'GA': 'Georgia', 'WA': 'Washington', 'OH': 'Ohio', 'NY': 'New York', 'LA': 'Louisiana', 'IN': 'Indiana', 'VA': 'Virginia', 'NJ': 'New Jersey', 'PA': 'Pennsylvania', 'WY': 'Wyoming', 'TN': 'Tennessee',\n",
    "    'KY': 'Kentucky', 'NV': 'Nevada', 'NH': 'New Hampshire', 'AK': 'Alaska', 'NM': 'New Mexico', 'IA': 'Iowa', 'DC': 'District of Columbia', 'MT': 'Montana', 'ME': 'Maine', 'OR': 'Oregon', 'SD': 'South Dakota', 'CT': 'Connecticut', 'RI': 'Rhode Island', 'MS': 'Mississippi',\n",
    "    'HI': 'Hawaii', 'NE': 'Nebraska', 'DE': 'Delaware', 'AR': 'Arkansas', 'WV': 'West Virginia', 'ND': 'North Dakota', 'ID': 'Idaho', 'MA': 'Massachusetts'\n",
    "}\n",
    "dict_inv = {v: k for k, v in dict.items()}\n",
    "\n",
    "youthpop_bystate = {}\n",
    "\n",
    "for state in states:\n",
    "    pop = get_2020pop(dict[state])\n",
    "    num = df['state'].value_counts()[state]\n",
    "    youthpop_bystate[state] = num/pop*1000000\n",
    "\n",
    "# sort youthpop_bystate by values reverse\n",
    "\n",
    "state_pair = []\n",
    "for t in sorted(youthpop_bystate.items(), key=lambda x: x[1], reverse=True):\n",
    "    state_pair.append(t)\n",
    "\n",
    "print(state_pair)"
   ]
  },
  {
   "cell_type": "code",
   "execution_count": null,
   "metadata": {},
   "outputs": [
    {
     "data": {
      "image/png": "[encoded data removed]",
      "text/plain": [
       "<Figure size 640x480 with 1 Axes>"
      ]
     },
     "metadata": {},
     "output_type": "display_data"
    }
   ],
   "source": [
    "# plot top 10 states with the highest percentage of youth cases as a bar chart\n",
    "import os\n",
    "\n",
    "# plt.bar(youthpop_bystate[:10].keys(), youthpop_bystate[:10].values())\n",
    "plt.bar([state for state, perc in state_pair[:10]], [perc for state, perc in state_pair[:10]])\n",
    "plt.title('Top 10 states with the highest percentage of youth cases')\n",
    "plt.xlabel('State')\n",
    "plt.ylabel('youth cases per 1 million')\n",
    "plt.show()\n",
    "\n",
    "#save png in clustering folder\n",
    "if not os.path.exists('clustering'):\n",
    "    os.makedirs('clustering')\n",
    "plt.savefig('clustering/youth_rate.png')\n",
    "\n",
    "\n"
   ]
  },
  {
   "cell_type": "code",
   "execution_count": 251,
   "metadata": {},
   "outputs": [
    {
     "name": "stdout",
     "output_type": "stream",
     "text": [
      "   state Per capita income  Poverty rate  higher_studies  \\\n",
      "24    MS           $26,807          19.4            23.2   \n",
      "48    WV           $28,761          16.8            21.8   \n",
      "3     AR           $29,210          16.3            24.3   \n",
      "31    NM           $29,624          18.4            28.5   \n",
      "18    LA           $30,340          19.6            25.5   \n",
      "0     AL           $30,458          16.1            26.7   \n",
      "17    KY           $30,634          16.5            25.7   \n",
      "36    OK           $30,976          15.5            26.8   \n",
      "12    ID           $31,509          11.0            29.1   \n",
      "14    IN           $32,537          12.2            27.8   \n",
      "\n",
      "    without_health_insurance  \n",
      "24                      14.2  \n",
      "48                       7.6  \n",
      "3                       11.0  \n",
      "31                      12.0  \n",
      "18                       9.0  \n",
      "0                       11.8  \n",
      "17                       6.7  \n",
      "36                      16.3  \n",
      "12                      10.5  \n",
      "14                       8.9  \n"
     ]
    }
   ],
   "source": [
    "df3 = pd.read_csv('../datasets/socio-economic.csv')\n",
    "# df3.drop('Racial characteristics of population', 'Median household income', '% foreign born population', inplace=True, axis=1)\n",
    "df3 = df3.drop(['Racial characteristics of population', 'Median household income', '% foreign born population', 'Life expectancy in years 2022' ], axis=1)\n",
    "#replace '% of people in povery' by poverty rate\n",
    "df3['Poverty rate'] = df3['% of people in poverty'].str.replace('%', '').astype(float)\n",
    "df3 = df3.drop(['% of people in poverty'], axis=1)\n",
    "\n",
    "df3['higher_studies'] = df3['% of 25+ year old people with bachelor or higher degrees'].str.replace('%', '').astype(float)\n",
    "df3 = df3.drop(['% of 25+ year old people with bachelor or higher degrees'], axis=1)\n",
    "\n",
    "df3['without_health_insurance'] = df3['% of people without health insurance'].str.replace('%', '').astype(float)\n",
    "df3 = df3.drop(['% of people without health insurance'], axis=1)\n",
    "\n",
    "# change \n",
    "# df3['state'] = dict_inv[df3['state']]\n",
    "# remove vermont\n",
    "df3 = df3[df3['state'] != 'Vermont']\n",
    "df3['state'] = [dict_inv[s] for s in df3['state']]\n",
    "\n",
    "# sort by per capita income\n",
    "\n",
    "df3 = df3.sort_values(by='Per capita income')\n",
    "print(df3.head(10))"
   ]
  },
  {
   "cell_type": "code",
   "execution_count": 252,
   "metadata": {},
   "outputs": [
    {
     "name": "stdout",
     "output_type": "stream",
     "text": [
      "   state Per capita income  Poverty rate  higher_studies  \\\n",
      "18    LA           $30,340          19.6            25.5   \n",
      "24    MS           $26,807          19.4            23.2   \n",
      "31    NM           $29,624          18.4            28.5   \n",
      "48    WV           $28,761          16.8            21.8   \n",
      "17    KY           $30,634          16.5            25.7   \n",
      "8     DC           $63,793          16.5            61.4   \n",
      "3     AR           $29,210          16.3            24.3   \n",
      "0     AL           $30,458          16.1            26.7   \n",
      "36    OK           $30,976          15.5            26.8   \n",
      "40    SC           $32,823          14.6            29.8   \n",
      "\n",
      "    without_health_insurance  \n",
      "18                       9.0  \n",
      "24                      14.2  \n",
      "31                      12.0  \n",
      "48                       7.6  \n",
      "17                       6.7  \n",
      "8                        4.1  \n",
      "3                       11.0  \n",
      "0                       11.8  \n",
      "36                      16.3  \n",
      "40                      12.2  \n"
     ]
    }
   ],
   "source": [
    "df3 = df3.sort_values(by='Poverty rate',  ascending=False)\n",
    "print(df3.head(10))"
   ]
  },
  {
   "cell_type": "code",
   "execution_count": 253,
   "metadata": {},
   "outputs": [
    {
     "name": "stdout",
     "output_type": "stream",
     "text": [
      "   state Per capita income  Poverty rate  higher_studies  \\\n",
      "48    WV           $28,761          16.8            21.8   \n",
      "24    MS           $26,807          19.4            23.2   \n",
      "3     AR           $29,210          16.3            24.3   \n",
      "18    LA           $30,340          19.6            25.5   \n",
      "17    KY           $30,634          16.5            25.7   \n",
      "\n",
      "    without_health_insurance  \n",
      "48                       7.6  \n",
      "24                      14.2  \n",
      "3                       11.0  \n",
      "18                       9.0  \n",
      "17                       6.7  \n"
     ]
    }
   ],
   "source": [
    "df3 = df3.sort_values(by='higher_studies')\n",
    "print(df3.head())\n"
   ]
  },
  {
   "cell_type": "code",
   "execution_count": 254,
   "metadata": {},
   "outputs": [
    {
     "name": "stdout",
     "output_type": "stream",
     "text": [
      "   state Per capita income  Poverty rate  higher_studies  \\\n",
      "43    TX           $34,255          14.2            31.5   \n",
      "36    OK           $30,976          15.5            26.8   \n",
      "9     FL           $35,216          13.1            31.5   \n",
      "50    WY           $36,288          11.4            28.5   \n",
      "10    GA           $34,516          14.0            33.0   \n",
      "\n",
      "    without_health_insurance  \n",
      "43                      20.4  \n",
      "36                      16.3  \n",
      "9                       15.1  \n",
      "50                      14.8  \n",
      "10                      14.7  \n"
     ]
    }
   ],
   "source": [
    "df3 = df3.sort_values(by='without_health_insurance',  ascending=False)\n",
    "print(df3.head())"
   ]
  },
  {
   "cell_type": "code",
   "execution_count": 255,
   "metadata": {},
   "outputs": [
    {
     "name": "stdout",
     "output_type": "stream",
     "text": [
      "   state Per capita income  Poverty rate  higher_studies  \\\n",
      "43    TX           $34,255          14.2            31.5   \n",
      "36    OK           $30,976          15.5            26.8   \n",
      "9     FL           $35,216          13.1            31.5   \n",
      "50    WY           $36,288          11.4            28.5   \n",
      "10    GA           $34,516          14.0            33.0   \n",
      "\n",
      "    without_health_insurance  \n",
      "43                      20.4  \n",
      "36                      16.3  \n",
      "9                       15.1  \n",
      "50                      14.8  \n",
      "10                      14.7  \n"
     ]
    }
   ],
   "source": [
    "\n",
    "# change state to dict_inv[state]\n",
    "print(df3.head())\n",
    "# df3['Per capita income']\n",
    "df3['per_capita_income'] = df3['Per capita income']\n",
    "df3 = df3.drop(['Per capita income'], axis=1)\n",
    "\n",
    "df3['poverty_rate'] = df3['Poverty rate']\n",
    "df3 = df3.drop(['Poverty rate'], axis=1)\n"
   ]
  },
  {
   "cell_type": "code",
   "execution_count": 256,
   "metadata": {},
   "outputs": [
    {
     "name": "stdout",
     "output_type": "stream",
     "text": [
      "  state  youth_cases\n",
      "0    AK    23.262667\n",
      "1    NM    15.705917\n",
      "2    DC    15.494267\n",
      "3    CO    14.428125\n",
      "4    OK    13.213389\n",
      "(50, 5) (50, 2)\n"
     ]
    }
   ],
   "source": [
    "# make a new pandas frame and merge state_pair with df3\n",
    "import pandas as pd\n",
    "\n",
    "data = pd.DataFrame(state_pair, columns=['state', 'youth_cases'])\n",
    "print(data.head())\n",
    "\n",
    "print(df3.shape, data.shape)"
   ]
  },
  {
   "cell_type": "code",
   "execution_count": 257,
   "metadata": {},
   "outputs": [
    {
     "name": "stdout",
     "output_type": "stream",
     "text": [
      "  state  youth_cases  higher_studies  without_health_insurance  \\\n",
      "0    AK    23.262667            30.6                      12.9   \n",
      "1    NM    15.705917            28.5                      12.0   \n",
      "2    DC    15.494267            61.4                       4.1   \n",
      "3    CO    14.428125            42.8                       9.3   \n",
      "4    OK    13.213389            26.8                      16.3   \n",
      "\n",
      "   per_capita_income  poverty_rate  \n",
      "0            39236.0          10.5  \n",
      "1            29624.0          18.4  \n",
      "2            63793.0          16.5  \n",
      "3            42807.0           9.7  \n",
      "4            30976.0          15.5  \n"
     ]
    }
   ],
   "source": [
    "# merge data and df3\n",
    "data = pd.merge(data, df3, on='state')\n",
    "# convert per_capita_income to float\n",
    "#  $39,236  \n",
    "data['per_capita_income'] = data['per_capita_income'].str.replace('$', '').str.replace(',', '').astype(float)\n",
    "print(data.head())"
   ]
  },
  {
   "cell_type": "code",
   "execution_count": 258,
   "metadata": {},
   "outputs": [
    {
     "name": "stdout",
     "output_type": "stream",
     "text": [
      "sorted by per capita income\n",
      "   state  youth_cases  higher_studies  without_health_insurance  \\\n",
      "24    MS     5.879920            23.2                      14.2   \n",
      "18    WV     6.504827            21.8                       7.6   \n",
      "25    AR     5.868958            24.3                      11.0   \n",
      "1     NM    15.705917            28.5                      12.0   \n",
      "9     LA     8.199203            25.5                       9.0   \n",
      "37    AL     4.217302            26.7                      11.8   \n",
      "33    KY     4.685885            25.7                       6.7   \n",
      "4     OK    13.213389            26.8                      16.3   \n",
      "35    ID     4.525508            29.1                      10.5   \n",
      "28    IN     5.547457            27.8                       8.9   \n",
      "\n",
      "    per_capita_income  poverty_rate  \n",
      "24            26807.0          19.4  \n",
      "18            28761.0          16.8  \n",
      "25            29210.0          16.3  \n",
      "1             29624.0          18.4  \n",
      "9             30340.0          19.6  \n",
      "37            30458.0          16.1  \n",
      "33            30634.0          16.5  \n",
      "4             30976.0          15.5  \n",
      "35            31509.0          11.0  \n",
      "28            32537.0          12.2  \n",
      "sorted by poverty rate\n",
      "   state  youth_cases  higher_studies  without_health_insurance  \\\n",
      "9     LA     8.199203            25.5                       9.0   \n",
      "24    MS     5.879920            23.2                      14.2   \n",
      "1     NM    15.705917            28.5                      12.0   \n",
      "18    WV     6.504827            21.8                       7.6   \n",
      "33    KY     4.685885            25.7                       6.7   \n",
      "2     DC    15.494267            61.4                       4.1   \n",
      "25    AR     5.868958            24.3                      11.0   \n",
      "37    AL     4.217302            26.7                      11.8   \n",
      "4     OK    13.213389            26.8                      16.3   \n",
      "34    SC     4.550797            29.8                      12.2   \n",
      "\n",
      "    per_capita_income  poverty_rate  \n",
      "9             30340.0          19.6  \n",
      "24            26807.0          19.4  \n",
      "1             29624.0          18.4  \n",
      "18            28761.0          16.8  \n",
      "33            30634.0          16.5  \n",
      "2             63793.0          16.5  \n",
      "25            29210.0          16.3  \n",
      "37            30458.0          16.1  \n",
      "4             30976.0          15.5  \n",
      "34            32823.0          14.6  \n",
      "sorted by higher studies\n",
      "   state  youth_cases  higher_studies  without_health_insurance  \\\n",
      "18    WV     6.504827            21.8                       7.6   \n",
      "24    MS     5.879920            23.2                      14.2   \n",
      "25    AR     5.868958            24.3                      11.0   \n",
      "9     LA     8.199203            25.5                       9.0   \n",
      "33    KY     4.685885            25.7                       6.7   \n",
      "7     NV    10.117269            26.1                      13.7   \n",
      "37    AL     4.217302            26.7                      11.8   \n",
      "4     OK    13.213389            26.8                      16.3   \n",
      "28    IN     5.547457            27.8                       8.9   \n",
      "1     NM    15.705917            28.5                      12.0   \n",
      "\n",
      "    per_capita_income  poverty_rate  \n",
      "18            28761.0          16.8  \n",
      "24            26807.0          19.4  \n",
      "25            29210.0          16.3  \n",
      "9             30340.0          19.6  \n",
      "33            30634.0          16.5  \n",
      "7             34621.0          14.1  \n",
      "37            30458.0          16.1  \n",
      "4             30976.0          15.5  \n",
      "28            32537.0          12.2  \n",
      "1             29624.0          18.4  \n",
      "sorted by without health insurance\n",
      "   state  youth_cases  higher_studies  without_health_insurance  \\\n",
      "13    TX     7.539246            31.5                      20.4   \n",
      "4     OK    13.213389            26.8                      16.3   \n",
      "19    FL     6.451769            31.5                      15.1   \n",
      "10    WY     7.801529            28.5                      14.8   \n",
      "8     GA     8.507264            33.0                      14.7   \n",
      "24    MS     5.879920            23.2                      14.2   \n",
      "7     NV    10.117269            26.1                      13.7   \n",
      "5     AZ    12.016525            31.2                      12.9   \n",
      "0     AK    23.262667            30.6                      12.9   \n",
      "32    NC     5.105320            33.0                      12.4   \n",
      "\n",
      "    per_capita_income  poverty_rate  \n",
      "13            34255.0          14.2  \n",
      "4             30976.0          15.5  \n",
      "19            35216.0          13.1  \n",
      "10            36288.0          11.4  \n",
      "8             34516.0          14.0  \n",
      "24            26807.0          19.4  \n",
      "7             34621.0          14.1  \n",
      "5             34644.0          12.8  \n",
      "0             39236.0          10.5  \n",
      "32            34209.0          13.4  \n"
     ]
    }
   ],
   "source": [
    "# print order of percapita income, poverty rate, higher studies, without health insurance\n",
    "print(\"sorted by per capita income\")\n",
    "data = data.sort_values(by='per_capita_income')\n",
    "print(data.head(10))\n",
    "\n",
    "print(\"sorted by poverty rate\")\n",
    "data = data.sort_values(by='poverty_rate',  ascending=False)\n",
    "print(data.head(10))\n",
    "\n",
    "print(\"sorted by higher studies\")\n",
    "data = data.sort_values(by='higher_studies')\n",
    "print(data.head(10))\n",
    "\n",
    "print(\"sorted by without health insurance\")\n",
    "data = data.sort_values(by='without_health_insurance',  ascending=False)\n",
    "print(data.head(10))\n"
   ]
  },
  {
   "cell_type": "code",
   "execution_count": 259,
   "metadata": {},
   "outputs": [
    {
     "name": "stdout",
     "output_type": "stream",
     "text": [
      "state                       0\n",
      "youth_cases                 0\n",
      "higher_studies              0\n",
      "without_health_insurance    0\n",
      "per_capita_income           0\n",
      "poverty_rate                0\n",
      "dtype: int64\n",
      "(50, 6)\n"
     ]
    }
   ],
   "source": [
    "print(data.isnull().sum())  # Check for missing values\n",
    "print(data.shape)           # Ensure the dataset is not empty\n",
    "\n",
    "data2 = data"
   ]
  },
  {
   "cell_type": "code",
   "execution_count": 260,
   "metadata": {},
   "outputs": [],
   "source": [
    "import pandas as pd\n",
    "from sklearn.preprocessing import StandardScaler\n",
    "from sklearn.cluster import KMeans\n",
    "import plotly.express as px\n",
    "import nbformat\n",
    "import plotly.io as pio\n",
    "\n",
    "pio.renderers.default = 'browser'\n",
    "\n",
    "\n",
    "\n",
    "# Normalize data for clustering\n",
    "scaler = StandardScaler()\n",
    "\n",
    "# Iteration 1: Clustering Without Socio-Economic Data\n",
    "iteration1_features = ['youth_cases']\n",
    "if data[iteration1_features].shape[0] > 0:\n",
    "    data['youth_cases_scaled'] = scaler.fit_transform(data[iteration1_features])\n",
    "    kmeans1 = KMeans(n_clusters=3, random_state=42)\n",
    "    data['cluster_iteration1'] = kmeans1.fit_predict(data[['youth_cases_scaled']])\n",
    "else:\n",
    "    print(\"No data available for Iteration 1 scaling.\")\n",
    "\n",
    "# Interactive Visualization for Iteration 1\n",
    "fig1 = px.scatter(\n",
    "    data,\n",
    "    x='youth_cases',\n",
    "    y='youth_cases',\n",
    "    color='cluster_iteration1',\n",
    "    text='state',\n",
    "    title=\"Iteration 1: Clustering Based on Youth Cases\",\n",
    "    labels={'youth_cases': 'Youth Cases'},\n",
    "    color_continuous_scale=px.colors.sequential.Viridis\n",
    ")\n",
    "fig1.update_traces(marker_size=12)\n",
    "fig1.show()\n",
    "\n",
    "# Iteration 2: Clustering With Socio-Economic Data\n",
    "iteration2_features = ['youth_cases', 'per_capita_income', 'poverty_rate', 'higher_studies']\n",
    "if data[iteration2_features].shape[0] > 0:\n",
    "    data[iteration2_features] = scaler.fit_transform(data[iteration2_features])\n",
    "    kmeans2 = KMeans(n_clusters=3, random_state=42)\n",
    "    data['cluster_iteration2'] = kmeans2.fit_predict(data[iteration2_features])\n",
    "else:\n",
    "    print(\"No data available for Iteration 2 scaling.\")\n",
    "\n",
    "# Interactive Visualization for Iteration 2\n",
    "fig2 = px.scatter(\n",
    "    data,\n",
    "    x='poverty_rate',\n",
    "    y='youth_cases',\n",
    "    color='cluster_iteration2',\n",
    "    text='state',\n",
    "    title=\"Iteration 2: Clustering With Socio-Economic Data\",\n",
    "    labels={'poverty_rate': 'Poverty Rate', 'youth_cases': 'Youth Cases'},\n",
    "    color_continuous_scale=px.colors.sequential.Plasma\n",
    ")\n",
    "fig2.update_traces(marker_size=12)\n",
    "fig2.show()\n",
    "\n",
    "# save the html files\n",
    "fig1.write_html(\"iteration1.html\")\n",
    "fig2.write_html(\"iteration2.html\")\n"
   ]
  },
  {
   "cell_type": "code",
   "execution_count": 261,
   "metadata": {},
   "outputs": [
    {
     "name": "stdout",
     "output_type": "stream",
     "text": [
      "{'KS': np.int64(12), 'OK': np.int64(37), 'AZ': np.int64(57), 'CA': np.int64(198), 'MN': np.int64(20), 'MO': np.int64(42), 'TX': np.int64(161), 'CO': np.int64(54), 'MI': np.int64(23), 'MD': np.int64(27), 'FL': np.int64(81), 'UT': np.int64(17), 'NC': np.int64(35), 'AL': np.int64(14), 'SC': np.int64(15), 'IL': np.int64(50), 'WI': np.int64(20), 'GA': np.int64(63), 'WA': np.int64(28), 'OH': np.int64(59), 'NY': np.int64(33), 'LA': np.int64(26), 'IN': np.int64(26), 'VA': np.int64(24), 'NJ': np.int64(16), 'PA': np.int64(29), 'WY': np.int64(3), 'TN': np.int64(27), 'KY': np.int64(14), 'NV': np.int64(20), 'NH': np.int64(3), 'AK': np.int64(12), 'NM': np.int64(22), 'IA': np.int64(7), 'DC': np.int64(6), 'MT': np.int64(5), 'ME': np.int64(5), 'OR': np.int64(14), 'SD': np.int64(4), 'CT': np.int64(3), 'RI': np.int64(1), 'MS': np.int64(12), 'HI': np.int64(3), 'NE': np.int64(3), 'DE': np.int64(4), 'AR': np.int64(12), 'WV': np.int64(7), 'ND': np.int64(2), 'ID': np.int64(6), 'MA': np.int64(6)}\n",
      "   state  youth_cases  higher_studies  without_health_insurance  \\\n",
      "13    TX     0.223220       -0.240394                      20.4   \n",
      "4     OK     1.610854       -0.958218                      16.3   \n",
      "19    FL    -0.042726       -0.240394                      15.1   \n",
      "10    WY     0.287363       -0.698579                      14.8   \n",
      "8     GA     0.459953       -0.011302                      14.7   \n",
      "\n",
      "    per_capita_income  poverty_rate  youth_cases_scaled  cluster_iteration1  \\\n",
      "13          -0.440534      0.566684            0.223220                   2   \n",
      "4           -0.952318      1.059782            1.610854                   1   \n",
      "19          -0.290542      0.149447           -0.042726                   2   \n",
      "10          -0.123225     -0.495374            0.287363                   2   \n",
      "8           -0.399797      0.490822            0.459953                   2   \n",
      "\n",
      "    cluster_iteration2  numofcases  youth_population  \n",
      "13                   0       161.0        21354922.0  \n",
      "4                    2        37.0         2800190.0  \n",
      "19                   0        81.0        12554696.0  \n",
      "10                   0         3.0          384540.0  \n",
      "8                    0        63.0         7405436.0  \n"
     ]
    }
   ],
   "source": [
    "data2['numofcases'] = data['youth_cases']\n",
    "\n",
    "\n",
    "#get count of each state cases into data2['numofcases]\n",
    "youth_count = {}\n",
    "youth_pop = {}\n",
    "for state in states:\n",
    "    num = df['state'].value_counts()[state]\n",
    "    youth_count[state] = num\n",
    "    youth_pop[state] = get_2020pop(dict[state])\n",
    "print(youth_count)\n",
    "\n",
    "\n",
    "for state in states:\n",
    "    data2.loc[data2['state'] == state, 'numofcases'] = youth_count[state]\n",
    "    data2.loc[data2['state'] == state, 'youth_population'] = youth_pop[state]\n",
    "\n",
    "print(data2.head())\n",
    "\n"
   ]
  },
  {
   "cell_type": "code",
   "execution_count": null,
   "metadata": {},
   "outputs": [],
   "source": []
  }
 ],
 "metadata": {
  "kernelspec": {
   "display_name": "venv",
   "language": "python",
   "name": "python3"
  },
  "language_info": {
   "codemirror_mode": {
    "name": "ipython",
    "version": 3
   },
   "file_extension": ".py",
   "mimetype": "text/x-python",
   "name": "python",
   "nbconvert_exporter": "python",
   "pygments_lexer": "ipython3",
   "version": "3.10.11"
  }
 },
 "nbformat": 4,
 "nbformat_minor": 2
}
